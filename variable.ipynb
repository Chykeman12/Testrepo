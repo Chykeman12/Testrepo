{
 "cells": [
  {
   "cell_type": "code",
   "execution_count": null,
   "metadata": {},
   "outputs": [],
   "source": [
    "myName = \"Abel\"\n",
    "num1 = 33\n",
    "\n",
    "print(myName,num1, end='\\r\\n')\n",
    "print(myName,num1, sep=',')"
   ]
  },
  {
   "cell_type": "markdown",
   "metadata": {},
   "source": [
    "Here we talk about Data types"
   ]
  },
  {
   "cell_type": "code",
   "execution_count": 30,
   "metadata": {},
   "outputs": [
    {
     "data": {
      "text/plain": [
       "set"
      ]
     },
     "execution_count": 30,
     "metadata": {},
     "output_type": "execute_result"
    }
   ],
   "source": [
    "# Primitive Data type\n",
    "# String\n",
    "name = \"my String\"\n",
    "# name\n",
    "\n",
    "# Number | Integer\n",
    "num1 = 34\n",
    "num1 = -5\n",
    "\n",
    "# Float\n",
    "num = 4.2\n",
    "\n",
    "# Boolean\n",
    "isCompleted = False\n",
    "\n",
    "# Undefined | Null\n",
    "# Object Data type - List[], Set{}, Dict{}, Turple()\n",
    "# List \n",
    "scores = [23,45,34,6,67,35]\n",
    "\n",
    "\n",
    "# Turple\n",
    "nums = (2,3,5,6,8,9)\n",
    "\n",
    "# Dictionary\n",
    "dict = {\"name\":'my name is Cybergate','age':num, \"time\": '12:00'}\n",
    "\n",
    "# Set\n",
    "set = {21,\"able\"}\n",
    "\n",
    "type(set)"
   ]
  },
  {
   "cell_type": "code",
   "execution_count": 35,
   "metadata": {},
   "outputs": [
    {
     "name": "stdout",
     "output_type": "stream",
     "text": [
      "8.0\n"
     ]
    }
   ],
   "source": [
    "# Eg of List\n",
    "students = [\"Obinna\", \"Chidi\", \"Chioma\", 26, 8.0]\n",
    "print(students[-1])"
   ]
  },
  {
   "cell_type": "code",
   "execution_count": 41,
   "metadata": {},
   "outputs": [],
   "source": [
    "# Eg Turple\n",
    "avg = (23, \"Able\", True, 9.3432)\n"
   ]
  },
  {
   "cell_type": "code",
   "execution_count": 4,
   "metadata": {},
   "outputs": [
    {
     "name": "stdout",
     "output_type": "stream",
     "text": [
      "<class 'complex'>\n"
     ]
    }
   ],
   "source": [
    "# Loop - For, While\n",
    "# for x in avg:\n",
    "#     print(x)\n",
    "\n",
    "# for i in range(10):\n",
    "#     print(i)\n",
    "\n",
    "vnum = 56j\n",
    "\n",
    "print(type(vnum))\n"
   ]
  },
  {
   "cell_type": "code",
   "execution_count": 6,
   "metadata": {},
   "outputs": [
    {
     "name": "stdout",
     "output_type": "stream",
     "text": [
      "[23, 222, 34, 6, 67, 35, 'able', True, 2.3]\n"
     ]
    }
   ],
   "source": [
    "scores = [23,45,34,6,67,35,\"able\", True, 2.3]\n",
    "\n",
    "scores[1] = 222\n",
    "\n",
    "print(scores)\n"
   ]
  },
  {
   "cell_type": "code",
   "execution_count": 10,
   "metadata": {},
   "outputs": [
    {
     "name": "stdout",
     "output_type": "stream",
     "text": [
      "{3.9, 3.5, 4.2, 4.4}\n"
     ]
    }
   ],
   "source": [
    "gp = {4.2, 4.4, 3.9, 3.5}\n",
    "\n",
    "print(gp)"
   ]
  },
  {
   "cell_type": "code",
   "execution_count": 15,
   "metadata": {},
   "outputs": [
    {
     "name": "stdout",
     "output_type": "stream",
     "text": [
      "4\n"
     ]
    }
   ],
   "source": [
    "tur = (3,4,5,6,7,8,9)\n",
    "# tur[1] = 333 Immutable\n",
    "\n",
    "print(tur[1])"
   ]
  },
  {
   "cell_type": "code",
   "execution_count": 26,
   "metadata": {},
   "outputs": [],
   "source": [
    "biodata = {'name': \"Able\", 'age': 20, \"isRegistered\":True, 'gp':4.2, 'hobbies': [\"Reading\", \"Writing\", \"Tracelling\"]}\n",
    "\n",
    "# print(biodata['hobbies'])\n",
    "hub = biodata['hobbies']\n",
    "\n",
    "# for x in hub:\n",
    "#     print(x)"
   ]
  },
  {
   "cell_type": "markdown",
   "metadata": {},
   "source": [
    " Functions"
   ]
  },
  {
   "cell_type": "code",
   "execution_count": 39,
   "metadata": {},
   "outputs": [
    {
     "name": "stdout",
     "output_type": "stream",
     "text": [
      "Hello,  Guest\n"
     ]
    }
   ],
   "source": [
    "# A function is a block that can be called repaetedly\n",
    "\n",
    "def sayHi():\n",
    "    print(\"Hello People\")\n",
    "\n",
    "# sayHi()\n",
    "# Function with Parameter | Argument\n",
    "def sayHello(name=\"Guest\"):\n",
    "    print(\"Hello, \", name)\n",
    "\n",
    "# sayHello(\"Chike\")\n",
    "# sayHello(\"Obinne\")\n",
    "# sayHello(\"Able\")\n",
    "# sayHello(\"Chika\")\n",
    "# sayHello(\"Chioma\")\n",
    "# sayHello(\"Steve\")\n",
    "# sayHello(\"Benson\")\n",
    "\n",
    "sayHello()"
   ]
  },
  {
   "cell_type": "code",
   "execution_count": 40,
   "metadata": {},
   "outputs": [
    {
     "name": "stdout",
     "output_type": "stream",
     "text": [
      "0\n"
     ]
    }
   ],
   "source": [
    "# Create a Function to Add 2 numbers\n",
    "\n",
    "def addNum(numA=0, numB=0):\n",
    "    print(numA + numB)\n",
    "\n",
    "addNum()\n",
    "\n",
    "# Ex: Create a function that accepts 3 argument, one will math symbol, while remaining will be numbers"
   ]
  },
  {
   "cell_type": "markdown",
   "metadata": {},
   "source": [
    "Functions with Return Statement"
   ]
  },
  {
   "cell_type": "code",
   "execution_count": 45,
   "metadata": {},
   "outputs": [
    {
     "name": "stdout",
     "output_type": "stream",
     "text": [
      "Hello Cybergate\n"
     ]
    },
    {
     "data": {
      "text/plain": [
       "'Hello Cybergate'"
      ]
     },
     "execution_count": 45,
     "metadata": {},
     "output_type": "execute_result"
    }
   ],
   "source": [
    "def sayHello(name=\"Guest\"):\n",
    "    # print(\"Hello, \", name)\n",
    "    # print(\"Hello, \" + name)\n",
    "    return 'Hello '+name\n",
    "\n",
    "# print(sayHello(\"Cybergate\"))\n",
    "# sayHello(\"Cybergate\")"
   ]
  },
  {
   "cell_type": "markdown",
   "metadata": {},
   "source": [
    "### Conditional Statement & operators"
   ]
  },
  {
   "cell_type": "code",
   "execution_count": 63,
   "metadata": {},
   "outputs": [
    {
     "data": {
      "text/plain": [
       "4"
      ]
     },
     "execution_count": 63,
     "metadata": {},
     "output_type": "execute_result"
    }
   ],
   "source": [
    "# if elseif\n",
    "# if conditons:\n",
    "#     code\n",
    "\n",
    "# * Arithematic \n",
    "# * math\n",
    "# * Logical \n",
    "# * Comparison\n",
    "# * Ternery\n",
    "\n",
    "# Floor Division\n",
    "a = 2\n",
    "b = 3\n",
    "ans = b // a\n",
    "\n",
    "# modulus\n",
    "ans2 = 10 % 4\n",
    "\n",
    "# Power\n",
    "ans3 = b ** a\n",
    "\n",
    "# Increasement ++\n",
    "c = 2\n",
    "\n",
    "d = c + c\n",
    "\n",
    "# Decreasement --\n"
   ]
  },
  {
   "cell_type": "code",
   "execution_count": 68,
   "metadata": {},
   "outputs": [
    {
     "name": "stdout",
     "output_type": "stream",
     "text": [
      "1\n"
     ]
    }
   ],
   "source": [
    "# Logical Operators\n",
    "\n",
    "print(False + True)\n"
   ]
  },
  {
   "cell_type": "code",
   "execution_count": 75,
   "metadata": {},
   "outputs": [
    {
     "name": "stdout",
     "output_type": "stream",
     "text": [
      "True\n"
     ]
    }
   ],
   "source": [
    "#  Comparison < > >= += /=\n",
    "\n",
    "print(2 <= 3)"
   ]
  },
  {
   "cell_type": "code",
   "execution_count": 81,
   "metadata": {},
   "outputs": [
    {
     "name": "stdout",
     "output_type": "stream",
     "text": [
      "They are equal\n"
     ]
    }
   ],
   "source": [
    "# Eg conditional Statement\n",
    "number1 = 30\n",
    "number2 = 30\n",
    "\n",
    "if number1 > number2:\n",
    "    print(str(number1) + \" is greater than \" + str(number2))\n",
    "elif number2 > number1:\n",
    "    print(str(number2) + \" is greater than \" + str(number1))\n",
    "else:\n",
    "    print(\"They are equal\")"
   ]
  },
  {
   "cell_type": "code",
   "execution_count": 86,
   "metadata": {},
   "outputs": [
    {
     "name": "stdout",
     "output_type": "stream",
     "text": [
      "3 is greater than 2\n",
      "9 is greater than 5\n",
      "-0.6 is greater than -0.7\n",
      "348936347843783 is greater than 23872983463339\n",
      "They are equal\n"
     ]
    }
   ],
   "source": [
    "# Class work\n",
    "\n",
    "def checkNumber(number1, number2):\n",
    "    if number1 > number2:\n",
    "        print(str(number1) + \" is greater than \" + str(number2))\n",
    "    elif number2 > number1:\n",
    "        print(str(number2) + \" is greater than \" + str(number1))\n",
    "    else:\n",
    "        print(\"They are equal\")\n",
    "\n",
    "checkNumber(3,2)\n",
    "checkNumber(9,5)\n",
    "checkNumber(-0.6,-0.7)\n",
    "checkNumber(348936347843783,23872983463339)\n",
    "checkNumber(-3489374839,-3489374839)"
   ]
  },
  {
   "cell_type": "markdown",
   "metadata": {},
   "source": [
    "str() converts to string \n",
    "int() converts to integer \n",
    "flo() converts to float\n",
    "list() converts to list\n",
    "dict()\n",
    "set()\n",
    "turple()\n",
    "bool()\n",
    "complex()\n",
    "Numpy()"
   ]
  },
  {
   "cell_type": "markdown",
   "metadata": {},
   "source": [
    "### Recap Function "
   ]
  },
  {
   "cell_type": "code",
   "execution_count": 11,
   "metadata": {},
   "outputs": [
    {
     "name": "stdout",
     "output_type": "stream",
     "text": [
      "-1\n",
      "Please Enter Number values\n"
     ]
    }
   ],
   "source": [
    "def printResut():\n",
    "    print(\"This is our semester result\")\n",
    "\n",
    "# printResut()\n",
    "def calnumbers(num1, num2):\n",
    "    # print(int(num1) - int(num2))\n",
    "    if type(num1) == int and type(num2) == int:\n",
    "        print(num1 - num2)\n",
    "    else:\n",
    "        print(\"Please Enter Number values\")\n",
    "\n",
    "\n",
    "calnumbers(2,3)\n",
    "calnumbers(\"Able\", \"chima\")"
   ]
  },
  {
   "cell_type": "code",
   "execution_count": 78,
   "metadata": {},
   "outputs": [
    {
     "name": "stdout",
     "output_type": "stream",
     "text": [
      "[54, 2, 54, 23, 7, 8, 2, -2, -5]\n",
      "[54, 23, 54, 23, 7, 8, 2, -2, -5]\n",
      "[54, 23, 7, 23, 7, 8, 2, -2, -5]\n",
      "[54, 23, 7, 8, 7, 8, 2, -2, -5]\n"
     ]
    }
   ],
   "source": [
    "# Class work - Rearrange this List in an Assending Order Manually\n",
    "L = [5,2,54,23,7,8,2,-2,-5]\n",
    "# L.sort()\n",
    "def arragi(array):\n",
    "    f = array[0]\n",
    "    p = 0\n",
    "    for x in array:\n",
    "        # print(x)\n",
    "        # break\n",
    "        # return False\n",
    "        # pass\n",
    "        if x > f:\n",
    "            array[p] = x\n",
    "            # f = x\n",
    "            p += 1\n",
    "            print(array)\n",
    "            # print(array)\n",
    "    # print(f[p])\n",
    "\n",
    "arragi(L)\n",
    "# if arragi(L) == True:\n",
    "#     print(\"registration success\")\n",
    "# else:\n",
    "#     print(\"registration failed\")"
   ]
  },
  {
   "cell_type": "markdown",
   "metadata": {},
   "source": [
    "## Data Structure"
   ]
  },
  {
   "cell_type": "code",
   "execution_count": null,
   "metadata": {},
   "outputs": [],
   "source": [
    "#  Datatype          Group,             Mutable,          Duplicate (copy)\n",
    "# String              not group           immutable           duplicate\n",
    "# List[]              group(index)         Mutable             duplicate\n",
    "# truple()            group (index)        immutable           duplicate\n",
    "# set{}              not group          remove/replace        not duplicate\n",
    "# dict{key:value}     not group          mutable              not duplicate\n",
    "#  CSV                  group           changeable              duplicate\n",
    "\n",
    "# Complex Data Structure\n",
    "# CSV - comma separated value\n",
    "# from pandas import * module paas, saas\n",
    "import pandas as pd\n",
    "# package manager | dependency manager eg pip, conda\n",
    "# data = pd.read_csv('./text.csv')\n",
    "\n",
    "# data\n",
    "# JSON - javascript object notation\n",
    "data = pd.read_json('./data.json')\n",
    "\n",
    "# data"
   ]
  },
  {
   "cell_type": "markdown",
   "metadata": {},
   "source": [
    "## Properties and Methods in Python"
   ]
  },
  {
   "cell_type": "code",
   "execution_count": null,
   "metadata": {},
   "outputs": [],
   "source": [
    "# len(\"car\")\n",
    "L = [5,2,54,23,7,8,2,-2,-5]\n",
    "K = L.copy()\n",
    "K[0] = 2233\n",
    "K.append(\"cybergate\")\n",
    "a = K.count(-2)\n",
    "b = len(K)\n",
    "\n",
    "# print(b)\n",
    "# Short conditional statement\n",
    "# print('abc' < 'def')\n",
    "\n",
    "# if (3 > 5 and 5 < 3) or (8 >= 9 and (17 == 19 * 2)):\n",
    "#     print(\"\")\n",
    "\n",
    "name = \"cybergate\"\n",
    "\n",
    "# print(name.capitalize())\n",
    "# print(name.upper())\n",
    "\n",
    "# print('a' not in \"moaua\")\n",
    "# print('a' in \"moaua\")\n",
    "\n",
    "# print(\"buy coke\" == 3 < 4)\n",
    "\n",
    "username = \"cyber-gate\"\n",
    "email = \"support.cybergate@gmail.com\"\n",
    "\n",
    "# username = username.split('-')\n",
    "# username\n",
    "\n",
    "# email = email.split('.')\n",
    "# for x in email:\n",
    "#     print(x)\n",
    "n = [1,2,3,4,5,6,7,8,9]\n"
   ]
  }
 ],
 "metadata": {
  "kernelspec": {
   "display_name": "Python 3",
   "language": "python",
   "name": "python3"
  },
  "language_info": {
   "codemirror_mode": {
    "name": "ipython",
    "version": 3
   },
   "file_extension": ".py",
   "mimetype": "text/x-python",
   "name": "python",
   "nbconvert_exporter": "python",
   "pygments_lexer": "ipython3",
   "version": "3.9.13"
  }
 },
 "nbformat": 4,
 "nbformat_minor": 2
}
